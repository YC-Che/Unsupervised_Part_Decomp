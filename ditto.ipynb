{
 "cells": [
  {
   "cell_type": "code",
   "execution_count": 59,
   "metadata": {},
   "outputs": [],
   "source": [
    "import scipy.io as sio\n",
    "import numpy as np\n",
    "import torch\n",
    "import glob\n",
    "from core.models.utils.evaluation import eval_atc_all\n",
    "import trimesh\n",
    "import os\n",
    "import matplotlib.pyplot as plt\n",
    "from transforms3d.euler import euler2mat\n",
    "os.environ[\"PYOPENGL_PLATFORM\"] = \"osmesa\"\n",
    "import pyrender\n",
    "\n",
    "\n",
    "def generate_mesh(point, color1, color2=None, mask=0, weight=0, split=False):\n",
    "    sm = trimesh.creation.uv_sphere(radius=0.01, count=[6,6])\n",
    "    nv = sm.vertices.shape[0]\n",
    "    vtx, faces, tex = [], [], []\n",
    "    print(point.shape[0])\n",
    "    \n",
    "    for i in range(point.shape[0]):\n",
    "        vtx.append(sm.vertices.copy() + point[i])\n",
    "        faces.append(sm.faces.copy() + i * nv)\n",
    "        if not split:\n",
    "            tex.append(np.ones_like(vtx[-1]) * color1)\n",
    "        else:\n",
    "            if type(mask) != int:\n",
    "                if mask[i]:\n",
    "                    tex.append(np.ones_like(vtx[-1]) * color2)\n",
    "                else:\n",
    "                    tex.append(np.ones_like(vtx[-1]) * color1)\n",
    "            if type(weight) != int:\n",
    "                color = color1 * weight[i] + color2 * (1 - weight[i])\n",
    "                tex.append(np.ones_like(vtx[-1]) * color * 0.99)\n",
    "    vtx = np.concatenate(vtx, axis=0)\n",
    "    faces = np.concatenate(faces, axis=0)\n",
    "    tex = np.concatenate(tex, axis=0)\n",
    "    mesh = trimesh.Trimesh(vertices=vtx, faces=faces, vertex_colors=tex)\n",
    "    return mesh"
   ]
  },
  {
   "cell_type": "code",
   "execution_count": 92,
   "metadata": {},
   "outputs": [
    {
     "data": {
      "text/plain": [
       "['pc_start',\n",
       " 'pc_start_end',\n",
       " 'pc_seg_start',\n",
       " 'pc_end',\n",
       " 'pc_end_start',\n",
       " 'pc_seg_end',\n",
       " 'state_start',\n",
       " 'state_end',\n",
       " 'screw_axis',\n",
       " 'screw_moment',\n",
       " 'joint_type',\n",
       " 'joint_index',\n",
       " 'start_p_occ',\n",
       " 'start_occ_list',\n",
       " 'end_p_occ',\n",
       " 'end_occ_list',\n",
       " 'start_mesh_pose_dict',\n",
       " 'end_mesh_pose_dict',\n",
       " 'object_path']"
      ]
     },
     "execution_count": 92,
     "metadata": {},
     "output_type": "execute_result"
    }
   ],
   "source": [
    "ditto_data_path = '/nhome/yuchen_che/ditto_dataset/train/microwave_train_1K/scenes/'\n",
    "data = np.load(ditto_data_path + 'a24e299bf36c44308bf5aa6f29bd08bf.npz', allow_pickle=True)\n",
    "data.files"
   ]
  },
  {
   "cell_type": "code",
   "execution_count": 104,
   "metadata": {},
   "outputs": [
    {
     "data": {
      "text/plain": [
       "0.0010197980123996125"
      ]
     },
     "execution_count": 104,
     "metadata": {},
     "output_type": "execute_result"
    }
   ],
   "source": [
    "data['pc_start'].var(axis=0).mean()"
   ]
  },
  {
   "cell_type": "code",
   "execution_count": 100,
   "metadata": {},
   "outputs": [
    {
     "data": {
      "text/plain": [
       "0.08285890337932757"
      ]
     },
     "execution_count": 100,
     "metadata": {},
     "output_type": "execute_result"
    }
   ],
   "source": []
  },
  {
   "cell_type": "code",
   "execution_count": 28,
   "metadata": {},
   "outputs": [
    {
     "data": {
      "text/plain": [
       "array([ True,  True,  True, ..., False, False, False])"
      ]
     },
     "execution_count": 28,
     "metadata": {},
     "output_type": "execute_result"
    }
   ],
   "source": [
    "data['pc_seg_start']"
   ]
  },
  {
   "cell_type": "code",
   "execution_count": 34,
   "metadata": {},
   "outputs": [
    {
     "data": {
      "text/plain": [
       "array([ 0.99075108, -0.13569191,  0.        ])"
      ]
     },
     "execution_count": 34,
     "metadata": {},
     "output_type": "execute_result"
    }
   ],
   "source": [
    "data['screw_axis']"
   ]
  },
  {
   "cell_type": "code",
   "execution_count": 61,
   "metadata": {},
   "outputs": [
    {
     "data": {
      "text/plain": [
       "array([0.0187519 , 0.13691655, 0.12248703])"
      ]
     },
     "execution_count": 61,
     "metadata": {},
     "output_type": "execute_result"
    }
   ],
   "source": [
    "np.cross(data['screw_axis'], data['screw_moment'])"
   ]
  },
  {
   "cell_type": "code",
   "execution_count": 68,
   "metadata": {},
   "outputs": [
    {
     "data": {
      "text/plain": [
       "(0.1020087075005529, 0.1020087075005529, 0.1020087075005529)"
      ]
     },
     "execution_count": 68,
     "metadata": {},
     "output_type": "execute_result"
    }
   ],
   "source": [
    "data['start_mesh_pose_dict'].item()['0_0'][0][1]"
   ]
  },
  {
   "cell_type": "code",
   "execution_count": 70,
   "metadata": {},
   "outputs": [
    {
     "data": {
      "text/plain": [
       "array(0.28460695)"
      ]
     },
     "execution_count": 70,
     "metadata": {},
     "output_type": "execute_result"
    }
   ],
   "source": [
    "data['state_start']"
   ]
  },
  {
   "cell_type": "code",
   "execution_count": 89,
   "metadata": {},
   "outputs": [],
   "source": [
    "#path = '/nhome/yuchen_che/ditto/data/syn/microwave_train_1K/scenes/'\n",
    "path = '/nhome/yuchen_che/ditto/data/syn/cabinet2_rand_train_1K/scenes/'\n",
    "instance_list = glob.glob(path+'*.npz')\n",
    "for i in instance_list:\n",
    "    data = np.load(i, allow_pickle=True)\n",
    "    if data['joint_type'] != 0:\n",
    "        print(i)"
   ]
  },
  {
   "attachments": {},
   "cell_type": "markdown",
   "metadata": {},
   "source": [
    "s2m:\n",
    "    faucet, laptop, oven\n",
    "syn:\n",
    "    cabinet2, microwave, toaster"
   ]
  },
  {
   "cell_type": "code",
   "execution_count": 41,
   "metadata": {},
   "outputs": [],
   "source": [
    "result_path = glob.glob(\"/nhome/yuchen_che/ditto/result/Ditto_single_joint_mix-13-51-10/results/*\")"
   ]
  },
  {
   "cell_type": "code",
   "execution_count": 122,
   "metadata": {},
   "outputs": [
    {
     "name": "stdout",
     "output_type": "stream",
     "text": [
      "['0027'] 0.9620966797661127 [0.29936148] [[0.01948286]]\n",
      "['0017'] 0.9822608357631677 [0.61453048] [[0.0162292]]\n",
      "['0016'] 0.9892484636547756 [0.84116421] [[0.01351474]]\n",
      "['0000'] 0.9376275214991194 [0.44455393] [[0.04682701]]\n",
      "['0013'] 0.9902866272144599 [0.66910326] [[0.01919058]]\n",
      "['0026'] 0.9600518479224498 [1.03759752] [[0.02812065]]\n",
      "['0024'] 0.9660241148674198 [1.27625574] [[0.02333264]]\n",
      "['0009'] 0.9846972802480805 [1.11504695] [[0.02268699]]\n",
      "['0011'] 0.985963166478568 [0.8629809] [[0.01782529]]\n",
      "['0006'] 0.9371652394486345 [0.16432452] [[0.0332907]]\n",
      "['0014'] 0.9848901363037835 [0.63334717] [[0.01334928]]\n",
      "['0020'] 0.9794010133237776 [2.36554381] [[0.02776684]]\n",
      "['0012'] 0.9841044204080379 [0.54679688] [[0.01666504]]\n",
      "['0021'] 0.9798905580418882 [1.84281279] [[0.01382328]]\n",
      "['0019'] 0.9928126784631981 [0.79228844] [[0.01931273]]\n",
      "['0005'] 0.9590083500654722 [0.35936467] [[0.04082318]]\n",
      "['0003'] 0.9424150409290628 [0.63365602] [[0.05994348]]\n",
      "['0004'] 0.9451575733261116 [1.93643888] [[0.03828261]]\n",
      "['0025'] 0.9876092743706719 [1.7318966] [[0.01024473]]\n",
      "['0007'] 0.9783984428050614 [0.57539317] [[0.02348306]]\n",
      "['0010'] 0.956143462942961 [0.22641938] [[0.01861563]]\n",
      "['0001'] 0.9145786821568072 [0.13270401] [[0.0316596]]\n",
      "['0002'] 0.9645125847356597 [0.91940995] [[0.03218679]]\n",
      "['0018'] 0.9812286456197895 [0.64891247] [[0.01445728]]\n",
      "['0015'] 0.9906755075100837 [0.73488641] [[0.01549884]]\n",
      "['0028'] 0.9880920621761777 [0.2289973] [[0.00509817]]\n",
      "['0023'] 0.9671842017190855 [0.94024427] [[0.01915289]]\n",
      "['0008'] 0.9539605506352786 [0.17582936] [[0.04420298]]\n",
      "['0022'] 0.9892660310826694 [1.92101546] [[0.01419911]]\n"
     ]
    }
   ],
   "source": [
    "overall_iou = 0\n",
    "orientation = 0\n",
    "distance = 0\n",
    "\n",
    "for result_instance in result_path:\n",
    "    result_instance += '/quant.npz'\n",
    "    result = np.load(result_instance, allow_pickle=True)\n",
    "\n",
    "    direction_hat = result['output'].item()['joint_axis'][np.newaxis, ...]\n",
    "    location_hat = result['output'].item()['pivot_point'][np.newaxis, ...]\n",
    "    #segmentation_hat = np.concatenate([result['segmentation'].item()['hat_start'][np.newaxis, ...], result['segmentation'].item()['hat_end'][np.newaxis, ...]],axis = 0)\n",
    "    segmentation_hat = result['segmentation'].item()['hat_start'][np.newaxis, ...]\n",
    "    segmentation_hat = segmentation_hat[..., np.newaxis].repeat(2, axis=-1)\n",
    "    segmentation_hat[..., -1] = ~segmentation_hat[..., -1]\n",
    "\n",
    "    direction_gt = result['data'].item()['joint_axis'][np.newaxis, ...]\n",
    "    location_gt = result['data'].item()['pivot_point'][np.newaxis, ...]\n",
    "    #segmentation_gt = np.concatenate([result['segmentation'].item()['GT_start'][np.newaxis, ...], result['segmentation'].item()['GT_end'][np.newaxis, ...]],axis = 0)\n",
    "    segmentation_gt = result['segmentation'].item()['GT_start'][np.newaxis, ...]\n",
    "    segmentation_gt = segmentation_gt[..., np.newaxis]\n",
    "\n",
    "    eval_result = eval_atc_all(direction_hat, location_hat, segmentation_hat, direction_gt, location_gt, segmentation_gt)\n",
    "    print(result_instance.split('/')[-2:-1], eval_result['overall_iou'], eval_result['joint_orientation_error_mean'], eval_result['joint_distance_error'])\n",
    "    #print(direction_gt)\n",
    "    overall_iou += eval_result['overall_iou']\n",
    "    orientation += eval_result['joint_orientation_error_mean']\n",
    "    distance += eval_result['joint_distance_error']\n",
    "\n",
    "overall_iou /= len(result_path)\n",
    "orientation /= len(result_path)\n",
    "distance /= len(result_path)"
   ]
  },
  {
   "cell_type": "code",
   "execution_count": 123,
   "metadata": {},
   "outputs": [
    {
     "data": {
      "text/plain": [
       "(0.9701638273613229, array([0.85071986]), array([[0.02411262]], dtype=float32))"
      ]
     },
     "execution_count": 123,
     "metadata": {},
     "output_type": "execute_result"
    }
   ],
   "source": [
    "overall_iou, orientation, distance"
   ]
  },
  {
   "cell_type": "code",
   "execution_count": 119,
   "metadata": {},
   "outputs": [],
   "source": [
    "result = np.load(\"/nhome/yuchen_che/ditto/result/Ditto_single_joint_mix-13-51-10/results/0021/quant.npz\", allow_pickle=True)"
   ]
  },
  {
   "cell_type": "code",
   "execution_count": 120,
   "metadata": {},
   "outputs": [],
   "source": [
    "pc_start = result['segmentation'].item()['pc_start'].cpu().numpy()\n",
    "pc_end = result['segmentation'].item()['pc_end'].cpu().numpy()\n",
    "label_start = result['segmentation'].item()['hat_start']\n",
    "label_end = result['segmentation'].item()['hat_end']"
   ]
  },
  {
   "cell_type": "code",
   "execution_count": 121,
   "metadata": {},
   "outputs": [
    {
     "name": "stdout",
     "output_type": "stream",
     "text": [
      "8192\n",
      "8192\n"
     ]
    },
    {
     "data": {
      "text/plain": [
       "(-0.5, 479.5, 479.5, -0.5)"
      ]
     },
     "execution_count": 121,
     "metadata": {},
     "output_type": "execute_result"
    },
    {
     "data": {
      "image/png": "[encoded data removed]",
      "text/plain": [
       "<Figure size 720x1440 with 2 Axes>"
      ]
     },
     "metadata": {
      "needs_background": "light"
     },
     "output_type": "display_data"
    }
   ],
   "source": [
    "mesh_start = generate_mesh(\n",
    "    pc_start,\n",
    "    color2=np.array([1,0.5,0.5]),\n",
    "    color1=np.array([0.5,1,0.5]),\n",
    "    #weight=cham_x[b,p].flatten(),\n",
    "    mask=label_start,\n",
    "    split=True)\n",
    "mesh_end = generate_mesh(\n",
    "    pc_end,\n",
    "    color2=np.array([1,0.5,0.5]),\n",
    "    color1=np.array([0.5,1,0.5]),\n",
    "    #weight=cham_x[b,p].flatten(),\n",
    "    mask=label_end,\n",
    "    split=True)\n",
    "\n",
    "R = euler2mat(-0.*np.pi, 0.3*np.pi, -0.2*np.pi, \"rzyx\")\n",
    "camera_pose = np.eye(4)\n",
    "camera_pose[:3, :3] = R\n",
    "camera_pose[:3, 3] = np.array([-0.,0.2,2])\n",
    "camera_pose[:3, 3:4] = R @ camera_pose[:3, 3:4]\n",
    "camera = pyrender.PerspectiveCamera(yfov=np.pi / 3, aspectRatio=1.0,)\n",
    "light = pyrender.DirectionalLight(color=[1.0, 1.0, 1.0], intensity=4.0)\n",
    "\n",
    "r = pyrender.OffscreenRenderer(480, 480)\n",
    "scene_mask = pyrender.Scene()\n",
    "scene_mask.add(pyrender.Mesh.from_trimesh(mesh_start, material=None))\n",
    "scene_mask.add(camera, pose=camera_pose)\n",
    "scene_mask.add(light, pose=camera_pose)\n",
    "color_mask_1, depth = r.render(scene_mask)\n",
    "scene_mask = pyrender.Scene()\n",
    "scene_mask.add(pyrender.Mesh.from_trimesh(mesh_end, material=None))\n",
    "scene_mask.add(camera, pose=camera_pose)\n",
    "scene_mask.add(light, pose=camera_pose)\n",
    "color_mask_2, depth = r.render(scene_mask)\n",
    "\n",
    "plt.figure(figsize=(10, 20))\n",
    "plt.subplot(1,2,1)\n",
    "plt.imshow(color_mask_1)\n",
    "plt.axis('off')\n",
    "\n",
    "plt.subplot(1,2,2)\n",
    "plt.imshow(color_mask_2)\n",
    "plt.axis('off')"
   ]
  },
  {
   "cell_type": "code",
   "execution_count": null,
   "metadata": {},
   "outputs": [],
   "source": []
  }
 ],
 "metadata": {
  "kernelspec": {
   "display_name": "cadex_env",
   "language": "python",
   "name": "python3"
  },
  "language_info": {
   "codemirror_mode": {
    "name": "ipython",
    "version": 3
   },
   "file_extension": ".py",
   "mimetype": "text/x-python",
   "name": "python",
   "nbconvert_exporter": "python",
   "pygments_lexer": "ipython3",
   "version": "3.7.11"
  },
  "orig_nbformat": 4
 },
 "nbformat": 4,
 "nbformat_minor": 2
}
